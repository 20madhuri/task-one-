{
 "cells": [
  {
   "cell_type": "code",
   "execution_count": 1,
   "id": "fd618c4e",
   "metadata": {},
   "outputs": [
    {
     "name": "stdout",
     "output_type": "stream",
     "text": [
      "0    g\n",
      "1    e\n",
      "2    e\n",
      "3    k\n",
      "4    s\n",
      "dtype: object\n"
     ]
    }
   ],
   "source": [
    "\n",
    "# import pandas as pd\n",
    "import pandas as pd\n",
    "  \n",
    "# import numpy as np\n",
    "import numpy as np\n",
    "  \n",
    "# simple array\n",
    "data = np.array(['g', 'e', 'e', 'k', 's'])\n",
    "  \n",
    "ser = pd.Series(data)\n",
    "print(ser)"
   ]
  },
  {
   "cell_type": "code",
   "execution_count": 2,
   "id": "500a0118",
   "metadata": {
    "scrolled": true
   },
   "outputs": [
    {
     "name": "stdout",
     "output_type": "stream",
     "text": [
      "0     3.0\n",
      "1    18.0\n",
      "2    33.0\n",
      "dtype: float64\n",
      "\n",
      " 0      1.0\n",
      "1     12.0\n",
      "2     23.0\n",
      "3     34.0\n",
      "4     45.0\n",
      "5     56.0\n",
      "6     67.0\n",
      "7     78.0\n",
      "8     89.0\n",
      "9    100.0\n",
      "dtype: float64\n"
     ]
    }
   ],
   "source": [
    "import pandas as pd \n",
    "import numpy as np \n",
    "    \n",
    "# series with numpy linspace()  \n",
    "ser1 = pd.Series(np.linspace(3, 33, 3)) \n",
    "print(ser1) \n",
    "    \n",
    "# series with numpy linspace() \n",
    "ser2 = pd.Series(np.linspace(1, 100, 10)) \n",
    "print(\"\\n\", ser2)"
   ]
  },
  {
   "cell_type": "code",
   "execution_count": 3,
   "id": "fababa6e",
   "metadata": {},
   "outputs": [
    {
     "name": "stdout",
     "output_type": "stream",
     "text": [
      "<class 'pandas.core.series.Series'>\n"
     ]
    }
   ],
   "source": [
    "import pandas as pd\n",
    "import matplotlib.pyplot as plt\n",
    "  \n",
    "author = ['Jitender', 'Purnima', 'Arpit', 'Jyoti']\n",
    "  \n",
    "auth_series = pd.Series(author)\n",
    "print(type(auth_series))"
   ]
  },
  {
   "cell_type": "code",
   "execution_count": 4,
   "id": "f005d638",
   "metadata": {},
   "outputs": [
    {
     "name": "stdout",
     "output_type": "stream",
     "text": [
      "     Author  Article   Age\n",
      "0  Jitender      210  21.0\n",
      "1   Purnima      211  21.0\n",
      "2     Arpit      114  23.0\n",
      "3     Jyoti      178   NaN\n"
     ]
    }
   ],
   "source": [
    "import pandas as pd\n",
    "import matplotlib.pyplot as plt\n",
    "  \n",
    "author = ['Jitender', 'Purnima', 'Arpit', 'Jyoti']\n",
    "article = [210, 211, 114, 178]\n",
    "  \n",
    "auth_series = pd.Series(author)\n",
    "article_series = pd.Series(article)\n",
    "  \n",
    "frame = { 'Author': auth_series, 'Article': article_series }\n",
    "  \n",
    "result = pd.DataFrame(frame)\n",
    "age = [21, 21, 23]\n",
    "  \n",
    "result['Age'] = pd.Series(age)\n",
    "  \n",
    "print(result)"
   ]
  },
  {
   "cell_type": "code",
   "execution_count": 5,
   "id": "be2d8c05",
   "metadata": {},
   "outputs": [
    {
     "data": {
      "image/png": "[encoded data removed]",
      "text/plain": [
       "<Figure size 432x288 with 1 Axes>"
      ]
     },
     "metadata": {
      "needs_background": "light"
     },
     "output_type": "display_data"
    }
   ],
   "source": [
    "import pandas as pd\n",
    "import matplotlib.pyplot as plt\n",
    "  \n",
    "author = ['Jitender', 'Purnima', 'Arpit', 'Jyoti']\n",
    "article = [210, 211, 114, 178]\n",
    "  \n",
    "auth_series = pd.Series(author)\n",
    "article_series = pd.Series(article)\n",
    "  \n",
    "frame = { 'Author': auth_series, 'Article': article_series }\n",
    "  \n",
    "result = pd.DataFrame(frame)\n",
    "age = [21, 21, 24, 23]\n",
    "  \n",
    "result['Age'] = pd.Series(age)\n",
    "  \n",
    "result.plot.bar()\n",
    "plt.show()"
   ]
  },
  {
   "cell_type": "code",
   "execution_count": null,
   "id": "f1cd7852",
   "metadata": {},
   "outputs": [],
   "source": []
  }
 ],
 "metadata": {
  "kernelspec": {
   "display_name": "Python 3 (ipykernel)",
   "language": "python",
   "name": "python3"
  },
  "language_info": {
   "codemirror_mode": {
    "name": "ipython",
    "version": 3
   },
   "file_extension": ".py",
   "mimetype": "text/x-python",
   "name": "python",
   "nbconvert_exporter": "python",
   "pygments_lexer": "ipython3",
   "version": "3.9.7"
  }
 },
 "nbformat": 4,
 "nbformat_minor": 5
}
